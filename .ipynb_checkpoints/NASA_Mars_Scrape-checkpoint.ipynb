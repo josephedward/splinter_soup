{
 "cells": [
  {
   "cell_type": "code",
   "execution_count": 2,
   "metadata": {},
   "outputs": [],
   "source": [
    "from splinter import Browser\n",
    "executable_path = {'executable_path':'./Applications/Google Chrome.app'}\n",
    "browser = Browser('chrome', executable_path)\n",
    "\n",
    "\n",
    "# get nasa mars page\n",
    "nasa_mars_url = 'https://mars.nasa.gov/news/'\n",
    "\n",
    "# import requests\n",
    "browser.visit(nasa_mars_url)\n",
    "nasa_mars_page = browser.html\n"
   ]
  },
  {
   "cell_type": "code",
   "execution_count": 3,
   "metadata": {
    "tags": [
     "outputPrepend"
    ]
   },
   "outputs": [],
   "source": [
    "from bs4 import BeautifulSoup\n",
    "soup = BeautifulSoup(nasa_mars_page, 'html.parser')\n",
    "# print(soup.prettify())\n"
   ]
  },
  {
   "cell_type": "code",
   "execution_count": 4,
   "metadata": {},
   "outputs": [
    {
     "name": "stdout",
     "output_type": "stream",
     "text": [
      "Title: 10.9 Million Names Now Aboard NASA's Perseverance Mars Rover\n",
      "Text: As part of NASA's 'Send Your Name to Mars' campaign, they've been stenciled onto three microchips along with essays from NASA's 'Name the Rover' contest. Next stop: Mars.\n"
     ]
    }
   ],
   "source": [
    "# first article on page \n",
    "article_1= soup.find_all('div', class_=\"slide\")[0]\n",
    "article_1_title = article_1.find(\"div\", class_=\"content_title\").find('a').get_text()\n",
    "article_1_title = article_1_title.strip('\\n')\n",
    "article_1_text = article_1.find(\"div\", class_='rollover_description_inner').get_text()\n",
    "article_1_text=article_1_text.strip('\\n')\n",
    "\n",
    "\n",
    "print(\"Title: \"+article_1_title)\n",
    "print(\"Text: \"+article_1_text)\n"
   ]
  },
  {
   "cell_type": "code",
   "execution_count": null,
   "metadata": {},
   "outputs": [],
   "source": []
  },
  {
   "cell_type": "code",
   "execution_count": 17,
   "metadata": {},
   "outputs": [
    {
     "data": {
      "text/plain": [
       "'www.jpl.nasa.gov/spaceimages/images/mediumsize/PIA18249_ip.jpg'"
      ]
     },
     "execution_count": 17,
     "metadata": {},
     "output_type": "execute_result"
    }
   ],
   "source": [
    "jpl_featured_image_url = \"https://www.jpl.nasa.gov/spaceimages/?search=&category=Mars\"\n",
    "browser.visit(jpl_featured_image_url)\n",
    "space_soup = BeautifulSoup(browser.html, 'html.parser')\n",
    "image_btn = space_soup.find('a',id='full_image')\n",
    "relative_image_url = image_btn.attrs['data-fancybox-href']\n",
    "\n",
    "import tldextract\n",
    "tld_jpl = tldextract.extract(jpl_featured_image_url)\n",
    "jpl = '.'.join(tld_jpl)\n",
    "whole_image_url = jpl +relative_image_url\n",
    "whole_image_url\n",
    "\n"
   ]
  },
  {
   "cell_type": "code",
   "execution_count": null,
   "metadata": {},
   "outputs": [],
   "source": []
  }
 ],
 "metadata": {
  "kernelspec": {
   "display_name": "Python 3.7.4 64-bit ('base': conda)",
   "language": "python",
   "name": "python37464bitbaseconda46876ee78260412780f984b0f66512a8"
  },
  "language_info": {
   "codemirror_mode": {
    "name": "ipython",
    "version": 3
   },
   "file_extension": ".py",
   "mimetype": "text/x-python",
   "name": "python",
   "nbconvert_exporter": "python",
   "pygments_lexer": "ipython3",
   "version": "3.7.4"
  }
 },
 "nbformat": 4,
 "nbformat_minor": 2
}
