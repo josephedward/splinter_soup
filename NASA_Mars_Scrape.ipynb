{
 "cells": [
  {
   "cell_type": "code",
   "execution_count": 50,
   "metadata": {},
   "outputs": [],
   "source": [
    "from splinter import Browser\n",
    "executable_path = {'executable_path':'./Applications/Google Chrome.app'}\n",
    "browser = Browser('chrome', executable_path)\n",
    "\n",
    "\n",
    "# get nasa mars page\n",
    "nasa_mars_url = 'https://mars.nasa.gov/news/'\n",
    "\n",
    "# import requests\n",
    "browser.visit(nasa_mars_url)\n",
    "nasa_mars_page = browser.html\n"
   ]
  },
  {
   "cell_type": "code",
   "execution_count": 37,
   "metadata": {
    "tags": [
     "outputPrepend"
    ]
   },
   "outputs": [],
   "source": [
    "from bs4 import BeautifulSoup\n",
    "soup = BeautifulSoup(nasa_mars_page, 'html.parser')\n",
    "# print(soup.prettify())\n"
   ]
  },
  {
   "cell_type": "code",
   "execution_count": 38,
   "metadata": {},
   "outputs": [
    {
     "output_type": "stream",
     "name": "stdout",
     "text": "Title: 10.9 Million Names Now Aboard NASA's Perseverance Mars Rover\nText: As part of NASA's 'Send Your Name to Mars' campaign, they've been stenciled onto three microchips along with essays from NASA's 'Name the Rover' contest. Next stop: Mars.\n"
    }
   ],
   "source": [
    "# first article on page \n",
    "article_1= soup.find_all('div', class_=\"slide\")[0]\n",
    "article_1_title = article_1.find(\"div\", class_=\"content_title\").find('a').get_text()\n",
    "article_1_title = article_1_title.strip('\\n')\n",
    "article_1_text = article_1.find(\"div\", class_='rollover_description_inner').get_text()\n",
    "article_1_text=article_1_text.strip('\\n')\n",
    "\n",
    "\n",
    "print(\"Title: \"+article_1_title)\n",
    "print(\"Text: \"+article_1_text)\n"
   ]
  },
  {
   "cell_type": "code",
   "execution_count": null,
   "metadata": {},
   "outputs": [],
   "source": []
  },
  {
   "cell_type": "code",
   "execution_count": 39,
   "metadata": {},
   "outputs": [
    {
     "output_type": "execute_result",
     "data": {
      "text/plain": "'www.jpl.nasa.gov/spaceimages/images/mediumsize/PIA17011_ip.jpg'"
     },
     "metadata": {},
     "execution_count": 39
    }
   ],
   "source": [
    "jpl_featured_image_url = \"https://www.jpl.nasa.gov/spaceimages/?search=&category=Mars\"\n",
    "browser.visit(jpl_featured_image_url)\n",
    "space_soup = BeautifulSoup(browser.html, 'html.parser')\n",
    "image_btn = space_soup.find('a',id='full_image')\n",
    "relative_image_url = image_btn.attrs['data-fancybox-href']\n",
    "\n",
    "import tldextract\n",
    "tld_jpl = tldextract.extract(jpl_featured_image_url)\n",
    "jpl = '.'.join(tld_jpl)\n",
    "whole_image_url = jpl +relative_image_url\n",
    "whole_image_url\n",
    "\n"
   ]
  },
  {
   "cell_type": "code",
   "execution_count": 40,
   "metadata": {},
   "outputs": [
    {
     "output_type": "execute_result",
     "data": {
      "text/plain": "'<table border=\"1\" class=\"dataframe\">\\n  <thead>\\n    <tr style=\"text-align: right;\">\\n      <th></th>\\n      <th>0</th>\\n      <th>1</th>\\n    </tr>\\n  </thead>\\n  <tbody>\\n    <tr>\\n      <th>0</th>\\n      <td>Equatorial Diameter:</td>\\n      <td>6,792 km</td>\\n    </tr>\\n    <tr>\\n      <th>1</th>\\n      <td>Polar Diameter:</td>\\n      <td>6,752 km</td>\\n    </tr>\\n    <tr>\\n      <th>2</th>\\n      <td>Mass:</td>\\n      <td>6.39 × 10^23 kg (0.11 Earths)</td>\\n    </tr>\\n    <tr>\\n      <th>3</th>\\n      <td>Moons:</td>\\n      <td>2 (Phobos &amp; Deimos)</td>\\n    </tr>\\n    <tr>\\n      <th>4</th>\\n      <td>Orbit Distance:</td>\\n      <td>227,943,824 km (1.38 AU)</td>\\n    </tr>\\n    <tr>\\n      <th>5</th>\\n      <td>Orbit Period:</td>\\n      <td>687 days (1.9 years)</td>\\n    </tr>\\n    <tr>\\n      <th>6</th>\\n      <td>Surface Temperature:</td>\\n      <td>-87 to -5 °C</td>\\n    </tr>\\n    <tr>\\n      <th>7</th>\\n      <td>First Record:</td>\\n      <td>2nd millennium BC</td>\\n    </tr>\\n    <tr>\\n      <th>8</th>\\n      <td>Recorded By:</td>\\n      <td>Egyptian astronomers</td>\\n    </tr>\\n  </tbody>\\n</table>'"
     },
     "metadata": {},
     "execution_count": 40
    }
   ],
   "source": [
    "mars_facts_url= \"https://space-facts.com/mars/\"\n",
    "import pandas as pd\n",
    "mars_facts_html=pd.read_html(mars_facts_url)\n",
    "# first elem is the table\n",
    "mars_df = pd.DataFrame(mars_facts_html[0])\n",
    "# convert to HTML \n",
    "mars_df_html = mars_df.to_html()\n",
    "mars_df_html\n",
    "\n"
   ]
  },
  {
   "cell_type": "code",
   "execution_count": 51,
   "metadata": {},
   "outputs": [
    {
     "output_type": "execute_result",
     "data": {
      "text/plain": "[]"
     },
     "metadata": {},
     "execution_count": 51
    }
   ],
   "source": [
    "usgs_astrology_url = \"https://astrogeology.usgs.gov/search/results?q=hemisphere+enhanced&k1=target&v1=Mars\"\n",
    "browser.visit(usgs_astrology_url)\n",
    "astrology_soup= BeautifulSoup(browser.html, 'html.parser')\n",
    "hemi_items = astrology_soup.find_all(\"div\", class_=\"item\")\n",
    "usgs_astrogeo_tld = tldextract.extract(usgs_astrology_url)\n",
    "usgs_astrogeo ='.'.join(usgs_astrog_tld)\n",
    "usgs_astrogeo\n",
    "\n",
    "\n",
    "hemi_titles=[]\n",
    "hemi_links=[]\n",
    "for x in hemi_items: \n",
    "    # print(x.find(\"h3\"))\n",
    "    hemi_titles.append(x.find(\"h3\").text)\n",
    "    hemi_links.append(usgs_astrogeo+x.find(\"a\", class_='itemLink product-item').attrs['href'])\n",
    "    # browser.visit(usgs_astrogeo+x.find(\"a\", class_='itemLink product-item').attrs['href'])\n",
    "    # print(browser.find_link_by_text('original').href)\n",
    "# hemi_titles\n",
    "# hemi_links\n",
    "\n",
    "hemi_imgs=[]\n",
    "    for x in hemi_links:\n",
    "        browser.visit(x)\n",
    "        hemi_imgs.append(browser.find_link_by_text('original').href)\n",
    "\n"
   ]
  },
  {
   "cell_type": "code",
   "execution_count": 47,
   "metadata": {},
   "outputs": [],
   "source": [
    "# \n"
   ]
  },
  {
   "cell_type": "code",
   "execution_count": null,
   "metadata": {},
   "outputs": [],
   "source": []
  }
 ],
 "metadata": {
  "kernelspec": {
   "display_name": "Python 3",
   "language": "python",
   "name": "python3"
  },
  "language_info": {
   "codemirror_mode": {
    "name": "ipython",
    "version": 3
   },
   "file_extension": ".py",
   "mimetype": "text/x-python",
   "name": "python",
   "nbconvert_exporter": "python",
   "pygments_lexer": "ipython3",
   "version": "3.7.6-final"
  }
 },
 "nbformat": 4,
 "nbformat_minor": 2
}